{
 "cells": [
  {
   "cell_type": "markdown",
   "metadata": {},
   "source": [
    "## Backend Basics\n",
    "\n",
    "---\n",
    "---"
   ]
  },
  {
   "cell_type": "markdown",
   "metadata": {},
   "source": [
    "---\n",
    "\n",
    "### How to start the development server\n",
    "   1. ```\n",
    "      docker-compose up DEV-postgres --build --force-recreate\n",
    "      ```\n",
    "\n",
    "   2. ```\n",
    "      docker-compose up server --build --force-recreate\n",
    "      ```\n",
    "\n",
    "### How do make the output less verbose\n",
    "   1. ```\n",
    "      docker-compose up DEV-postgres --build --force-recreate\n",
    "      ```\n",
    "\n",
    "   2. ```\n",
    "      docker-compose up server --build --force-recreate | awk '{$1=$2=$3=$4=$5=\"\"; print $0}'\n",
    "      ```"
   ]
  },
  {
   "cell_type": "markdown",
   "metadata": {},
   "source": [
    "---\n",
    "\n",
    "### How to run the unit testing server\n",
    "   1. ```\n",
    "      docker-compose up DEV-postgres --build --force-recreate\n",
    "      ```\n",
    "   2. ```\n",
    "      docker-compose up server-test --build --force-recreate\n",
    "      ```"
   ]
  }
 ],
 "metadata": {
  "language_info": {
   "name": "python"
  }
 },
 "nbformat": 4,
 "nbformat_minor": 2
}
